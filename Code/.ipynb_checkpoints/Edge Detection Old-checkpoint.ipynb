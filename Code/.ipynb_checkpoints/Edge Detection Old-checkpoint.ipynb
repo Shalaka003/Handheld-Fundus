{
 "cells": [
  {
   "cell_type": "code",
   "execution_count": 1,
   "id": "066f2b3d",
   "metadata": {
    "id": "066f2b3d"
   },
   "outputs": [],
   "source": [
    "import cv2\n",
    "import math\n",
    "import scipy\n",
    "import numpy as np\n",
    "import matplotlib.pyplot as plt\n",
    "from scipy.interpolate import griddata"
   ]
  },
  {
   "cell_type": "code",
   "execution_count": 2,
   "id": "3c791f9e",
   "metadata": {
    "id": "3c791f9e"
   },
   "outputs": [],
   "source": [
    "def get_non_uniform_sampling(source, steps):\n",
    "    shape = np.shape(source)\n",
    "    height = shape[0]\n",
    "    length = shape[1]\n",
    "    \n",
    "    x_centre = int(length/2)\n",
    "    y_centre = int(height/2)\n",
    "    radius = int(min(length, height)/2)\n",
    "    \n",
    "    pi = np.pi\n",
    "    multiplier = 0.5\n",
    "    x_coordinates = []\n",
    "    y_coordinates = []\n",
    "\n",
    "    for r in steps:\n",
    "        number_of_points = (1/multiplier) * 2\n",
    "\n",
    "        for j in range(int(number_of_points)):\n",
    "            theta = j*pi*multiplier\n",
    "            x = x_centre + (r * np.cos(theta))\n",
    "            y = y_centre + (r * np.sin(theta))\n",
    "            \n",
    "            if(x<length and x>0 and y<height and y>0):\n",
    "                x_coordinates.append(int(x))\n",
    "                y_coordinates.append(int(y))\n",
    "\n",
    "        multiplier = multiplier/2\n",
    "    \n",
    "    return x_coordinates, y_coordinates"
   ]
  },
  {
   "cell_type": "code",
   "execution_count": 3,
   "id": "2e-8slQ_yR3H",
   "metadata": {
    "colab": {
     "base_uri": "https://localhost:8080/"
    },
    "id": "2e-8slQ_yR3H",
    "outputId": "8271fa76-4f3c-4572-bfa5-0eda416d9f6e"
   },
   "outputs": [
    {
     "name": "stdout",
     "output_type": "stream",
     "text": [
      "(1248, 1664, 3)\n"
     ]
    }
   ],
   "source": [
    "image = cv2.imread(\"./Images/OS0043EY.JPG\")\n",
    "print(np.shape(image))\n",
    "(B,G,R) = cv2.split(image)"
   ]
  },
  {
   "cell_type": "code",
   "execution_count": 4,
   "id": "GNSnzJ-Jy1Um",
   "metadata": {
    "colab": {
     "base_uri": "https://localhost:8080/"
    },
    "id": "GNSnzJ-Jy1Um",
    "outputId": "09750c5c-3605-40f8-9ac9-c0296540a5b3"
   },
   "outputs": [],
   "source": [
    "gray = cv2.cvtColor(image, cv2.COLOR_BGR2GRAY)\n",
    "blurred = cv2.GaussianBlur(gray, (3, 3), 0)\n",
    "\n",
    "edged = cv2.Canny(blurred, 10, 100)\n",
    "arr_edge = np.where(edged==255)"
   ]
  },
  {
   "cell_type": "code",
   "execution_count": null,
   "id": "5ae59926",
   "metadata": {},
   "outputs": [],
   "source": [
    "print(np.shape(arr_edge))\n",
    "print(arr_edge)\n",
    "x_edge = arr_edge[1]\n",
    "y_edge = arr_edge[0]"
   ]
  },
  {
   "cell_type": "code",
   "execution_count": null,
   "id": "JgMGEHGyyZqu",
   "metadata": {
    "colab": {
     "base_uri": "https://localhost:8080/",
     "height": 792
    },
    "id": "JgMGEHGyyZqu",
    "outputId": "b5de4679-ad18-469b-addb-a22056e9eb86"
   },
   "outputs": [],
   "source": [
    "plt.figure(figsize = (8,8))\n",
    "plt.imshow(image)\n",
    "plt.scatter(x_edge, y_edge)"
   ]
  },
  {
   "cell_type": "markdown",
   "id": "SXbOwoAy06Iw",
   "metadata": {
    "id": "SXbOwoAy06Iw"
   },
   "source": [
    "OLD PART HERE ONWARDS\n"
   ]
  },
  {
   "cell_type": "code",
   "execution_count": null,
   "id": "b6283bab",
   "metadata": {},
   "outputs": [],
   "source": [
    "# for i in range(number_of_steps+1):\n",
    "#     if(i>0):\n",
    "#         distance = radius/(i-0.5)\n",
    "#         steps.append(int(radius - distance))\n",
    "\n",
    "# print(steps)"
   ]
  },
  {
   "cell_type": "code",
   "execution_count": null,
   "id": "a5e3e146",
   "metadata": {},
   "outputs": [],
   "source": [
    "number_of_steps = 5\n",
    "steps = []\n",
    "radius = 624\n",
    "steps = np.linspace(0, radius, number_of_steps)\n",
    "\n",
    "for i in range(number_of_steps):\n",
    "    steps[i] = steps[i] - int(math.pow(i, 3)) + int(math.pow(i, 1.5))\n",
    "\n",
    "steps = np.array(steps, dtype=int)\n",
    "print(steps)"
   ]
  },
  {
   "cell_type": "code",
   "execution_count": null,
   "id": "3cfb446d",
   "metadata": {
    "colab": {
     "base_uri": "https://localhost:8080/"
    },
    "id": "3cfb446d",
    "outputId": "c85f9f3b-ebda-4b12-fb13-8cfc8df024de"
   },
   "outputs": [],
   "source": [
    "# steps = [0, 149, 296, 467, 614]\n",
    "x_coordinates, y_coordinates = get_non_uniform_sampling(G, steps)\n",
    "number_of_points = (np.shape(x_coordinates))[0]\n",
    "print(\"The number of points is\", number_of_points)"
   ]
  },
  {
   "cell_type": "code",
   "execution_count": null,
   "id": "_XLBXI55V_iv",
   "metadata": {
    "colab": {
     "base_uri": "https://localhost:8080/",
     "height": 493
    },
    "id": "_XLBXI55V_iv",
    "outputId": "45f8235a-7e9d-4973-e0e3-fdad2d6b1602"
   },
   "outputs": [],
   "source": [
    "plt.figure(figsize = (8,8))\n",
    "plt.imshow(G)\n",
    "plt.scatter(x_coordinates, y_coordinates, color='red')\n",
    "plt.colorbar()\n",
    "plt.title(\"Image and Sampling Points\")"
   ]
  },
  {
   "cell_type": "code",
   "execution_count": null,
   "id": "4b49617d",
   "metadata": {},
   "outputs": [],
   "source": [
    "points = []\n",
    "for i , j in zip(x_edge, y_edge):\n",
    "    points.append((i,j))"
   ]
  },
  {
   "cell_type": "code",
   "execution_count": null,
   "id": "b019fa22",
   "metadata": {},
   "outputs": [],
   "source": [
    "import matplotlib.pyplot as plt  # plot, show\n",
    "import math                      # atan2\n",
    "\n",
    "def sort_counterclockwise(points, centre = None):\n",
    "    if centre:\n",
    "        centre_x, centre_y = centre\n",
    "    else:\n",
    "        centre_x, centre_y = sum([x for x,_ in points])/len(points), sum([y for _,y in points])/len(points)\n",
    "    angles = [math.atan2(y - centre_y, x - centre_x) for x,y in points]\n",
    "    counterclockwise_indices = sorted(range(len(points)), key=lambda i: angles[i])\n",
    "    counterclockwise_points = [points[i] for i in counterclockwise_indices]\n",
    "    return counterclockwise_points"
   ]
  },
  {
   "cell_type": "code",
   "execution_count": null,
   "id": "d573c7e3",
   "metadata": {},
   "outputs": [],
   "source": [
    "sorted_points = sort_counterclockwise(points)\n",
    "t = np.transpose(sorted_points)\n",
    "x_edge = t[0]\n",
    "y_edge = t[1]\n",
    "\n",
    "interval = 2**(number_of_steps + 1)\n",
    "\n",
    "x_edge = np.array(x_edge[0::interval] ,dtype=int)\n",
    "y_edge = np.array(y_edge[0::interval], dtype=int)"
   ]
  },
  {
   "cell_type": "code",
   "execution_count": null,
   "id": "7d6a63dc",
   "metadata": {},
   "outputs": [],
   "source": [
    "plt.scatter(x_edge, y_edge)"
   ]
  },
  {
   "cell_type": "code",
   "execution_count": null,
   "id": "3d4fd4d1",
   "metadata": {},
   "outputs": [],
   "source": [
    "x_coordinates = np.concatenate([x_coordinates, x_edge])\n",
    "y_coordinates = np.concatenate([y_coordinates, y_edge])"
   ]
  },
  {
   "cell_type": "code",
   "execution_count": null,
   "id": "5774800b",
   "metadata": {},
   "outputs": [],
   "source": [
    "plt.figure(figsize = (8,8))\n",
    "plt.imshow(G)\n",
    "plt.scatter(x_coordinates, y_coordinates, color='red')\n",
    "plt.colorbar()\n",
    "plt.title(\"Image and Sampling Points\")"
   ]
  },
  {
   "cell_type": "code",
   "execution_count": null,
   "id": "dd088a8b",
   "metadata": {},
   "outputs": [],
   "source": [
    "def get_non_uniform_sampling_final(img, number_of_steps):\n",
    "    shape = np.shape(img)\n",
    "    height = shape[0]\n",
    "    length = shape[1]\n",
    "    radius = int(min(length, height)/2)\n",
    "    \n",
    "    gray = cv2.cvtColor(image, cv2.COLOR_BGR2GRAY)\n",
    "    blurred = cv2.GaussianBlur(gray, (3, 3), 0)\n",
    "    edged = cv2.Canny(blurred, 10, 100)\n",
    "    arr_edge = np.where(edged==255)\n",
    "    x_edge = arr_edge[1]\n",
    "    y_edge = arr_edge[0]\n",
    "    \n",
    "    steps = np.linspace(0, radius, number_of_steps)\n",
    "\n",
    "    for i in range(number_of_steps):\n",
    "        steps[i] = steps[i] - int(math.pow(i, 3)) + int(math.pow(i, 1.5))\n",
    "\n",
    "    steps = np.array(steps, dtype=int)\n",
    "    \n",
    "    x_coordinates, y_coordinates = get_non_uniform_sampling(img, steps)\n",
    "    points = []\n",
    "    for i , j in zip(x_edge, y_edge):\n",
    "        points.append((i,j))\n",
    "        \n",
    "    sorted_points = sort_counterclockwise(points)\n",
    "    t = np.transpose(sorted_points)\n",
    "    x_edge = t[0]\n",
    "    y_edge = t[1]\n",
    "\n",
    "    interval = 2**(number_of_steps + 1)\n",
    "\n",
    "    x_edge = np.array(x_edge[0::interval] ,dtype=int)\n",
    "    y_edge = np.array(y_edge[0::interval], dtype=int)\n",
    "    \n",
    "    x_coordinates = np.concatenate([x_coordinates, x_edge])\n",
    "    y_coordinates = np.concatenate([y_coordinates, y_edge])\n",
    "    \n",
    "    return x_coordinates, y_coordinates"
   ]
  },
  {
   "cell_type": "code",
   "execution_count": null,
   "id": "d74c2f25",
   "metadata": {},
   "outputs": [],
   "source": [
    "x, y = get_non_uniform_sampling_final(G, 5)"
   ]
  },
  {
   "cell_type": "code",
   "execution_count": null,
   "id": "ccdb2ede",
   "metadata": {},
   "outputs": [],
   "source": [
    "plt.figure(figsize = (8,8))\n",
    "plt.imshow(G)\n",
    "plt.scatter(x, y, color='red')\n",
    "plt.colorbar()\n",
    "plt.title(\"Image and Sampling Points\")"
   ]
  },
  {
   "cell_type": "code",
   "execution_count": null,
   "id": "f9e3516b",
   "metadata": {},
   "outputs": [],
   "source": []
  }
 ],
 "metadata": {
  "colab": {
   "provenance": []
  },
  "kernelspec": {
   "display_name": "Python 3 (ipykernel)",
   "language": "python",
   "name": "python3"
  },
  "language_info": {
   "codemirror_mode": {
    "name": "ipython",
    "version": 3
   },
   "file_extension": ".py",
   "mimetype": "text/x-python",
   "name": "python",
   "nbconvert_exporter": "python",
   "pygments_lexer": "ipython3",
   "version": "3.9.7"
  }
 },
 "nbformat": 4,
 "nbformat_minor": 5
}
