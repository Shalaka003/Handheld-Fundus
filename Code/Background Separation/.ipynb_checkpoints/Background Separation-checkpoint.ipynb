{
 "cells": [
  {
   "cell_type": "code",
   "execution_count": 1,
   "id": "066f2b3d",
   "metadata": {},
   "outputs": [],
   "source": [
    "import cv2\n",
    "import math\n",
    "import numpy as np\n",
    "import matplotlib.pyplot as plt\n",
    "from scipy.interpolate import griddata"
   ]
  },
  {
   "cell_type": "code",
   "execution_count": 2,
   "id": "3c791f9e",
   "metadata": {},
   "outputs": [],
   "source": [
    "def get_non_uniform_sampling(source, steps):\n",
    "    shape = np.shape(source)\n",
    "    y_centre = int(shape[0]/2)\n",
    "    radius = int(shape[0]/2)\n",
    "    \n",
    "    pi = np.pi\n",
    "    multiplier = 0.5\n",
    "    x_coordinates = []\n",
    "    y_coordinates = []\n",
    "\n",
    "    for r in steps:\n",
    "        number_of_points = (1/multiplier) * 2\n",
    "\n",
    "        for j in range(int(number_of_points)):\n",
    "            theta = j*pi*multiplier\n",
    "            x = y_centre + (r * np.cos(theta))\n",
    "            y = y_centre + (r * np.sin(theta))\n",
    "            x_coordinates.append(int(x))\n",
    "            y_coordinates.append(int(y))\n",
    "\n",
    "        multiplier = multiplier/2\n",
    "    \n",
    "    return x_coordinates, y_coordinates"
   ]
  },
  {
   "cell_type": "code",
   "execution_count": 3,
   "id": "5cd9fe9e",
   "metadata": {},
   "outputs": [
    {
     "name": "stdout",
     "output_type": "stream",
     "text": [
      "(512, 512, 3)\n"
     ]
    }
   ],
   "source": [
    "img = cv2.imread(\"lena.png\")\n",
    "(B,G,R) = cv2.split(img)\n",
    "print(np.shape(img))"
   ]
  },
  {
   "cell_type": "code",
   "execution_count": 4,
   "id": "3cfb446d",
   "metadata": {},
   "outputs": [
    {
     "data": {
      "text/plain": [
       "4092"
      ]
     },
     "execution_count": 4,
     "metadata": {},
     "output_type": "execute_result"
    }
   ],
   "source": [
    "steps = [1, 40, 85, 135, 175, 200, 225, 230, 240, 250]\n",
    "x_coordinates, y_coordinates = get_non_uniform_sampling(G, steps)\n",
    "number_of_points = np.shape(x_coordinates)[0]\n",
    "number_of_points"
   ]
  },
  {
   "cell_type": "code",
   "execution_count": 5,
   "id": "02eb3cba",
   "metadata": {},
   "outputs": [],
   "source": [
    "w = 5\n",
    "var = []\n",
    "std = []\n",
    "for i in range(number_of_points):\n",
    "    half = int(w/2)\n",
    "    x = x_coordinates[i]\n",
    "    y = y_coordinates[i]\n",
    "    l = int(x-half)\n",
    "    r = int(x+half+1)\n",
    "    d = int(y-half)\n",
    "    u = int(y+half+1)\n",
    "    grid = G[l:r, d:u]\n",
    "    v = np.var(grid)\n",
    "    var.append(v)\n",
    "    std.append(math.sqrt(v))"
   ]
  },
  {
   "cell_type": "code",
   "execution_count": 6,
   "id": "68a40fff",
   "metadata": {},
   "outputs": [],
   "source": [
    "final_var = np.empty(np.shape(G))\n",
    "final_var[:,:] = np.nan\n",
    "final_std = np.empty(np.shape(G))\n",
    "final_std[:,:] = np.nan\n",
    "\n",
    "for i in range(number_of_points):\n",
    "    final_var[x_coordinates[i], y_coordinates[i]] = var[i]\n",
    "    final_std[x_coordinates[i], y_coordinates[i]] = std[i]"
   ]
  },
  {
   "cell_type": "code",
   "execution_count": 7,
   "id": "3643b1c7",
   "metadata": {},
   "outputs": [],
   "source": [
    "x_grid, y_grid = np.meshgrid(x_coordinates, y_coordinates)\n",
    "mask = [~np.isnan(final_var)]"
   ]
  },
  {
   "cell_type": "code",
   "execution_count": 8,
   "id": "3a050ced",
   "metadata": {},
   "outputs": [],
   "source": [
    "#x = x_grid[mask].reshape(-1)\n",
    "#y = y_grid[mask].reshape(-1)"
   ]
  },
  {
   "cell_type": "code",
   "execution_count": 12,
   "id": "3bade985",
   "metadata": {},
   "outputs": [],
   "source": [
    "nan_indices = np.argwhere(np.isnan(final_var))\n",
    "x_nan = nan_indices[:, 0]\n",
    "y_nan = nan_indices[:, 1]\n",
    "\n",
    "# Interpolate the NaN values in final_var using var and x_coordinates, y_coordinates\n",
    "final_var[nan_indices[:, 0], nan_indices[:, 1]] = griddata((x_coordinates, y_coordinates), var, (x_nan, y_nan), method='cubic')"
   ]
  },
  {
   "cell_type": "code",
   "execution_count": 14,
   "id": "0416b962",
   "metadata": {},
   "outputs": [
    {
     "data": {
      "text/plain": [
       "array([[  0,   0],\n",
       "       [  0,   1],\n",
       "       [  0,   2],\n",
       "       ...,\n",
       "       [511, 509],\n",
       "       [511, 510],\n",
       "       [511, 511]], dtype=int64)"
      ]
     },
     "execution_count": 14,
     "metadata": {},
     "output_type": "execute_result"
    }
   ],
   "source": [
    "final_var"
   ]
  },
  {
   "cell_type": "code",
   "execution_count": null,
   "id": "6fc5b797",
   "metadata": {},
   "outputs": [],
   "source": []
  }
 ],
 "metadata": {
  "kernelspec": {
   "display_name": "Python 3 (ipykernel)",
   "language": "python",
   "name": "python3"
  },
  "language_info": {
   "codemirror_mode": {
    "name": "ipython",
    "version": 3
   },
   "file_extension": ".py",
   "mimetype": "text/x-python",
   "name": "python",
   "nbconvert_exporter": "python",
   "pygments_lexer": "ipython3",
   "version": "3.9.7"
  }
 },
 "nbformat": 4,
 "nbformat_minor": 5
}
