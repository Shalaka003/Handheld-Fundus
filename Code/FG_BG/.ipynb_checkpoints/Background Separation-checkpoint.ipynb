{
 "cells": [
  {
   "cell_type": "code",
   "execution_count": 1,
   "id": "066f2b3d",
   "metadata": {},
   "outputs": [],
   "source": [
    "import cv2\n",
    "import math\n",
    "import numpy as np\n",
    "import matplotlib.pyplot as plt\n",
    "from scipy.interpolate import griddata"
   ]
  },
  {
   "cell_type": "code",
   "execution_count": 2,
   "id": "3c791f9e",
   "metadata": {},
   "outputs": [],
   "source": [
    "def get_non_uniform_sampling(source, steps):\n",
    "    shape = np.shape(source)\n",
    "    y_centre = int(shape[0]/2)\n",
    "    radius = int(shape[0]/2)\n",
    "    \n",
    "    pi = np.pi\n",
    "    multiplier = 0.5\n",
    "    x_coordinates = []\n",
    "    y_coordinates = []\n",
    "\n",
    "    for r in steps:\n",
    "        number_of_points = (1/multiplier) * 2\n",
    "\n",
    "        for j in range(int(number_of_points)):\n",
    "            theta = j*pi*multiplier\n",
    "            x = y_centre + (r * np.cos(theta))\n",
    "            y = y_centre + (r * np.sin(theta))\n",
    "            x_coordinates.append(int(x))\n",
    "            y_coordinates.append(int(y))\n",
    "\n",
    "        multiplier = multiplier/2\n",
    "    \n",
    "    return x_coordinates, y_coordinates"
   ]
  },
  {
   "cell_type": "code",
   "execution_count": 3,
   "id": "5cd9fe9e",
   "metadata": {},
   "outputs": [
    {
     "name": "stdout",
     "output_type": "stream",
     "text": [
      "(512, 512, 3)\n"
     ]
    }
   ],
   "source": [
    "img = cv2.imread(\"lena.png\")\n",
    "(B,G,R) = cv2.split(img)\n",
    "print(np.shape(img))"
   ]
  },
  {
   "cell_type": "code",
   "execution_count": 4,
   "id": "3cfb446d",
   "metadata": {},
   "outputs": [
    {
     "data": {
      "text/plain": [
       "4092"
      ]
     },
     "execution_count": 4,
     "metadata": {},
     "output_type": "execute_result"
    }
   ],
   "source": [
    "steps = [1, 40, 85, 135, 175, 200, 225, 230, 240, 250]\n",
    "x_coordinates, y_coordinates = get_non_uniform_sampling(G, steps)\n",
    "number_of_points = np.shape(x_coordinates)[0]\n",
    "number_of_points"
   ]
  },
  {
   "cell_type": "code",
   "execution_count": 5,
   "id": "02eb3cba",
   "metadata": {},
   "outputs": [],
   "source": [
    "w = 5\n",
    "var = []\n",
    "std = []\n",
    "for i in range(number_of_points):\n",
    "    half = int(w/2)\n",
    "    x = x_coordinates[i]\n",
    "    y = y_coordinates[i]\n",
    "    l = int(x-half)\n",
    "    r = int(x+half+1)\n",
    "    d = int(y-half)\n",
    "    u = int(y+half+1)\n",
    "    grid = G[l:r, d:u]\n",
    "    v = np.var(grid)\n",
    "    var.append(v)\n",
    "    std.append(math.sqrt(v))"
   ]
  },
  {
   "cell_type": "code",
   "execution_count": 6,
   "id": "68a40fff",
   "metadata": {},
   "outputs": [],
   "source": [
    "interpolated_var = np.empty(np.shape(G))\n",
    "interpolated_var[:,:] = np.nan\n",
    "interpolated_std = np.empty(np.shape(G))\n",
    "interpolated_std[:,:] = np.nan\n",
    "\n",
    "for i in range(number_of_points):\n",
    "    interpolated_var[x_coordinates[i], y_coordinates[i]] = var[i]\n",
    "    interpolated_std[x_coordinates[i], y_coordinates[i]] = std[i]"
   ]
  },
  {
   "cell_type": "code",
   "execution_count": 7,
   "id": "3643b1c7",
   "metadata": {},
   "outputs": [],
   "source": [
    "x_grid, y_grid = np.meshgrid(x_coordinates, y_coordinates)\n",
    "mask = [~np.isnan(interpolated_var)]"
   ]
  },
  {
   "cell_type": "code",
   "execution_count": 8,
   "id": "3a050ced",
   "metadata": {},
   "outputs": [
    {
     "name": "stderr",
     "output_type": "stream",
     "text": [
      "C:\\Users\\aniru\\AppData\\Local\\Temp/ipykernel_24712/1631578669.py:1: FutureWarning: Using a non-tuple sequence for multidimensional indexing is deprecated; use `arr[tuple(seq)]` instead of `arr[seq]`. In the future this will be interpreted as an array index, `arr[np.array(seq)]`, which will result either in an error or a different result.\n",
      "  x = x_grid[mask].reshape(-1)\n"
     ]
    },
    {
     "ename": "IndexError",
     "evalue": "boolean index did not match indexed array along dimension 0; dimension is 4092 but corresponding boolean dimension is 512",
     "output_type": "error",
     "traceback": [
      "\u001b[1;31m---------------------------------------------------------------------------\u001b[0m",
      "\u001b[1;31mIndexError\u001b[0m                                Traceback (most recent call last)",
      "\u001b[1;32m~\\AppData\\Local\\Temp/ipykernel_24712/1631578669.py\u001b[0m in \u001b[0;36m<module>\u001b[1;34m\u001b[0m\n\u001b[1;32m----> 1\u001b[1;33m \u001b[0mx\u001b[0m \u001b[1;33m=\u001b[0m \u001b[0mx_grid\u001b[0m\u001b[1;33m[\u001b[0m\u001b[0mmask\u001b[0m\u001b[1;33m]\u001b[0m\u001b[1;33m.\u001b[0m\u001b[0mreshape\u001b[0m\u001b[1;33m(\u001b[0m\u001b[1;33m-\u001b[0m\u001b[1;36m1\u001b[0m\u001b[1;33m)\u001b[0m\u001b[1;33m\u001b[0m\u001b[1;33m\u001b[0m\u001b[0m\n\u001b[0m\u001b[0;32m      2\u001b[0m \u001b[0my\u001b[0m \u001b[1;33m=\u001b[0m \u001b[0my_grid\u001b[0m\u001b[1;33m[\u001b[0m\u001b[0mmask\u001b[0m\u001b[1;33m]\u001b[0m\u001b[1;33m.\u001b[0m\u001b[0mreshape\u001b[0m\u001b[1;33m(\u001b[0m\u001b[1;33m-\u001b[0m\u001b[1;36m1\u001b[0m\u001b[1;33m)\u001b[0m\u001b[1;33m\u001b[0m\u001b[1;33m\u001b[0m\u001b[0m\n",
      "\u001b[1;31mIndexError\u001b[0m: boolean index did not match indexed array along dimension 0; dimension is 4092 but corresponding boolean dimension is 512"
     ]
    }
   ],
   "source": [
    "x = x_grid[mask].reshape(-1)\n",
    "y = y_grid[mask].reshape(-1)"
   ]
  },
  {
   "cell_type": "code",
   "execution_count": null,
   "id": "1f16cfaa",
   "metadata": {},
   "outputs": [],
   "source": []
  }
 ],
 "metadata": {
  "kernelspec": {
   "display_name": "Python 3 (ipykernel)",
   "language": "python",
   "name": "python3"
  },
  "language_info": {
   "codemirror_mode": {
    "name": "ipython",
    "version": 3
   },
   "file_extension": ".py",
   "mimetype": "text/x-python",
   "name": "python",
   "nbconvert_exporter": "python",
   "pygments_lexer": "ipython3",
   "version": "3.9.7"
  }
 },
 "nbformat": 4,
 "nbformat_minor": 5
}
