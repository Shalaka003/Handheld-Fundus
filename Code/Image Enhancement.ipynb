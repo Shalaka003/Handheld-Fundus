{
 "cells": [
  {
   "cell_type": "code",
   "execution_count": 1,
   "id": "60c19e45",
   "metadata": {
    "id": "066f2b3d"
   },
   "outputs": [],
   "source": [
    "import os\n",
    "import cv2\n",
    "import math\n",
    "import scipy\n",
    "import numpy as np\n",
    "import matplotlib.pyplot as plt\n",
    "from scipy.interpolate import griddata\n",
    "from PIL import Image, ImageDraw, ImageFilter"
   ]
  },
  {
   "cell_type": "code",
   "execution_count": 30,
   "id": "61d38ea7",
   "metadata": {
    "id": "3c791f9e"
   },
   "outputs": [],
   "source": [
    "def get_non_uniform_sampling(source, steps):\n",
    "    shape = np.shape(source)\n",
    "    height = shape[0]\n",
    "    length = shape[1]\n",
    "    \n",
    "    x_centre = int(length/2)\n",
    "    y_centre = int(height/2)\n",
    "    radius = int(min(length, height)/2)\n",
    "    \n",
    "    pi = np.pi\n",
    "    multiplier = 0.5\n",
    "    x_coordinates = []\n",
    "    y_coordinates = []\n",
    "\n",
    "    for r in steps:\n",
    "        number_of_points = (1/multiplier) * 2\n",
    "\n",
    "        for j in range(int(number_of_points)):\n",
    "            theta = j*pi*multiplier\n",
    "            x = x_centre + (r * np.cos(theta))\n",
    "            y = y_centre + (r * np.sin(theta))\n",
    "            \n",
    "            if(x<length and x>0 and y<height and y>0):\n",
    "                x_coordinates.append(int(x))\n",
    "                y_coordinates.append(int(y))\n",
    "\n",
    "        multiplier = multiplier/2\n",
    "    \n",
    "    return x_coordinates, y_coordinates\n",
    "    \n",
    "    return x_coordinates, y_coordinates\n",
    "\n",
    "def get_roi_values(src, x , y, window_size):\n",
    "    height = np.shape(src)[0]\n",
    "    length = np.shape(src)[1]\n",
    "    \n",
    "    left = x - int(window_size/2)\n",
    "    left = max(0, left)\n",
    "    \n",
    "    right = x + int(window_size/2)\n",
    "    right = min(length, right)\n",
    "    \n",
    "    top = y - int(window_size/2)\n",
    "    top = max(0, top)\n",
    "    \n",
    "    bottom = y + int(window_size/2)\n",
    "    bottom = min(height, bottom)\n",
    "    \n",
    "    slice_arr = src[top:bottom, left:right]\n",
    "    \n",
    "    return slice_arr, np.mean(slice_arr), np.std(slice_arr)\n",
    "\n",
    "def get_mean_std(src, x_coordinates, y_coordinates, window_size):\n",
    "    mean = []\n",
    "    std = []\n",
    "    number_of_points = np.shape(x_coordinates)[0]\n",
    "    \n",
    "    for i in range(number_of_points):\n",
    "        slice_arr, slice_mean, slice_std = get_roi_values(src, x_coordinates[i], y_coordinates[i], window_size)\n",
    "        mean.append(slice_mean)\n",
    "        std.append(slice_std)\n",
    "    \n",
    "    return mean, std\n",
    "\n",
    "def sort_counterclockwise(points, centre = None):\n",
    "    if centre:\n",
    "        centre_x, centre_y = centre\n",
    "    else:\n",
    "        centre_x, centre_y = sum([x for x,_ in points])/len(points), sum([y for _,y in points])/len(points)\n",
    "    angles = [math.atan2(y - centre_y, x - centre_x) for x,y in points]\n",
    "    counterclockwise_indices = sorted(range(len(points)), key=lambda i: angles[i])\n",
    "    counterclockwise_points = [points[i] for i in counterclockwise_indices]\n",
    "    return counterclockwise_points\n",
    "\n",
    "def get_non_uniform_sampling_final(img, number_of_steps):\n",
    "    shape = np.shape(img)\n",
    "    height = shape[0]\n",
    "    length = shape[1]\n",
    "    radius = int(min(length, height)/2)\n",
    "    \n",
    "    gray = cv2.cvtColor(img, cv2.COLOR_BGR2GRAY)\n",
    "    ret, thresh = cv2.threshold(gray, 2, 255, cv2.THRESH_BINARY)\n",
    "    blurred = cv2.GaussianBlur(thresh, (3, 3), 0)\n",
    "    edged = cv2.Canny(blurred, 10, 100)\n",
    "    arr_edge = np.where(edged==255)\n",
    "    x_edge = arr_edge[1]\n",
    "    y_edge = arr_edge[0]\n",
    "    \n",
    "    steps = np.linspace(0, radius, number_of_steps)\n",
    "\n",
    "    for i in range(number_of_steps):\n",
    "        steps[i] = steps[i] - int(math.pow(i, 3)) + int(math.pow(i, 1.5))\n",
    "\n",
    "    steps = np.array(steps, dtype=int)\n",
    "    \n",
    "    x_coordinates, y_coordinates = get_non_uniform_sampling(img, steps)\n",
    "    points = []\n",
    "    for i , j in zip(x_edge, y_edge):\n",
    "        points.append((i,j))\n",
    "        \n",
    "    sorted_points = sort_counterclockwise(points)\n",
    "    t = np.transpose(sorted_points)\n",
    "    x_edge = t[0]\n",
    "    y_edge = t[1]\n",
    "\n",
    "    interval = 2**(number_of_steps + 1)\n",
    "\n",
    "    x_edge = np.array(x_edge[0::interval] ,dtype=int)\n",
    "    y_edge = np.array(y_edge[0::interval], dtype=int)\n",
    "    \n",
    "    x_coordinates = np.concatenate([x_coordinates, x_edge])\n",
    "    y_coordinates = np.concatenate([y_coordinates, y_edge])\n",
    "    \n",
    "    return x_coordinates, y_coordinates\n",
    "\n",
    "def enhance_image(img, image_window_size, background_window_size, threshold):\n",
    "    (B,G,R) = cv2.split(img)\n",
    "    height = np.shape(G)[0]\n",
    "    length = np.shape(G)[1]\n",
    "    \n",
    "    # Non Uniform Sampling --------------------------------------------------------------------------------------\n",
    "    x_coordinates, y_coordinates = get_non_uniform_sampling_final(img, 5)\n",
    "    \n",
    "    # Extrapolated mean and standard deviation ------------------------------------------------------------------\n",
    "    mean, std = get_mean_std(G, x_coordinates, y_coordinates, image_window_size)\n",
    "    \n",
    "    xi = np.arange(0, length, 1)\n",
    "    yi = np.arange(0, height, 1)\n",
    "    x_grid, y_grid = np.meshgrid(xi, yi)\n",
    "\n",
    "    points = []\n",
    "    for i , j in zip(x_coordinates, y_coordinates):\n",
    "        points.append([i,j])\n",
    "    \n",
    "    interpolated_mean = scipy.interpolate.griddata(points, mean, (x_grid, y_grid), method='linear', fill_value=0, rescale=False)\n",
    "    interpolated_std = scipy.interpolate.griddata(points, std, (x_grid, y_grid), method='linear', fill_value=0, rescale=False)\n",
    "    \n",
    "    # Mahalanobis Distance---------------------------------------------------------------------------------------\n",
    "    mahalanobis = np.empty(np.shape(G))\n",
    "    background = np.zeros(np.shape(G))\n",
    "    G = np.array(G)\n",
    "    \n",
    "    interpolated_mean = np.array(interpolated_mean)\n",
    "    interpolated_std = np.array(interpolated_std)\n",
    "    mahalanobis = np.abs((G - interpolated_mean)/interpolated_std)\n",
    "    \n",
    "    indexes = np.where(mahalanobis <= threshold)\n",
    "    background = np.zeros([height, length], dtype=int)\n",
    "    background[indexes] = 1\n",
    "    mult = background*G\n",
    "    \n",
    "    # Background operations---------------------------------------------------------------------------------------\n",
    "    mean_mult = []\n",
    "    std_mult = []\n",
    "\n",
    "    for i in range(length):\n",
    "        for j in range(height):\n",
    "            mult_slice, temp_mean, temp_std = get_roi_values(mult, i , j, background_window_size)\n",
    "            mult_slice = mult_slice[(mult_slice != 0)]\n",
    "            if(not np.any(mult_slice)):\n",
    "                mean_mult.append(0) \n",
    "                std_mult.append(0)\n",
    "            else:\n",
    "                mean_m = np.mean(mult_slice)\n",
    "                std_m = np.std(mult_slice)\n",
    "                mean_mult.append(mean_m)\n",
    "                std_mult.append(std_m)\n",
    "    \n",
    "    U = np.empty(np.shape(G))\n",
    "    SM = np.array(mean_mult)\n",
    "    SA = np.array(std_mult)\n",
    "    SM = SM.reshape(height, length,  order='F')\n",
    "    SA = SA.reshape(height, length, order='F')\n",
    "    U = (G - SM) / SA\n",
    "    \n",
    "    U[np.isnan(U)] = 0\n",
    "    U[~np.isfinite(U)] = 0\n",
    "    U_norm = (U - np.min(U))/(np.max(U)- np.min(U))\n",
    "    \n",
    "    # Final Processing ------------------------------------------------------------------------------------------\n",
    "    v = np.empty(np.shape(G))\n",
    "    R = np.array(R)\n",
    "    G = np.array(G)\n",
    "    B = np.array(B)\n",
    "\n",
    "    v = np.maximum(np.maximum(R,G),B)\n",
    "    R_corr = (U_norm/v)*R\n",
    "    G_corr = (U_norm/v)*G\n",
    "    B_corr = (U_norm/v)*B\n",
    "\n",
    "    R_corr[np.isnan(R_corr)] = 0\n",
    "    G_corr[np.isnan(G_corr)] = 0\n",
    "    B_corr[np.isnan(B_corr)] = 0\n",
    "    \n",
    "    enhanced_image = cv2.merge([B_corr, G_corr, R_corr])\n",
    "\n",
    "    return enhanced_image\n",
    "\n",
    "def write_image(path, img):\n",
    "    # img = img*(2**16-1)\n",
    "    # img = img.astype(np.uint16)\n",
    "    # img = img.astype(np.uint8)\n",
    "    img = cv2.convertScaleAbs(img, alpha=(255.0))\n",
    "    cv2.imwrite(path, img)\n",
    "    \n",
    "def load_images_from_folder(folder):\n",
    "    images = []\n",
    "    for filename in os.listdir(folder):\n",
    "        img = cv2.imread(os.path.join(folder,filename))\n",
    "        if img is not None:\n",
    "            images.append(img)\n",
    "    return images\n",
    "\n",
    "def pad_image(image, new_size):\n",
    "    # Get the size of the original image\n",
    "    height, width, _ = image.shape\n",
    "\n",
    "    # Calculate the new size of the padded image\n",
    "    new_height, new_width = new_size\n",
    "\n",
    "    # Calculate the padding sizes\n",
    "    left_pad = (new_width - width) // 2\n",
    "    right_pad = new_width - width - left_pad\n",
    "    top_pad = (new_height - height) // 2\n",
    "    bottom_pad = new_height - height - top_pad\n",
    "\n",
    "    # Paste the original image in the center of the padded image\n",
    "    BLACK = [0, 0, 0]\n",
    "    padded_image = cv2.copyMakeBorder(image, top_pad, bottom_pad, left_pad, right_pad, cv2.BORDER_CONSTANT, value=BLACK)\n",
    "\n",
    "    # Save the padded image as a new file\n",
    "#     padded_image = cv2.convertScaleAbs(padded_image, alpha=(255.0))\n",
    "    \n",
    "    return padded_image"
   ]
  },
  {
   "cell_type": "code",
   "execution_count": 3,
   "id": "7457d8ed",
   "metadata": {},
   "outputs": [
    {
     "name": "stdout",
     "output_type": "stream",
     "text": [
      "63\n"
     ]
    }
   ],
   "source": [
    "folder = \"./Images/\"\n",
    "images = load_images_from_folder(folder)\n",
    "image_names = os.listdir(folder)\n",
    "n = np.shape(images)[0]\n",
    "print(n)"
   ]
  },
  {
   "cell_type": "code",
   "execution_count": 4,
   "id": "548dce82",
   "metadata": {},
   "outputs": [],
   "source": [
    "# img = cv2.imread(\"./Images/OS0049EY.JPG\")\n",
    "# img[1200:1248, 0:100, :] = 0\n",
    "\n",
    "# (B,G,R) = cv2.split(img)\n",
    "\n",
    "# print(\"Image Dimensions -\", np.shape(img))\n",
    "# cv2.imshow(\"Source Image\", G)\n",
    "# cv2.waitKey(0)"
   ]
  },
  {
   "cell_type": "code",
   "execution_count": 5,
   "id": "44d0b7b8",
   "metadata": {},
   "outputs": [
    {
     "name": "stdout",
     "output_type": "stream",
     "text": [
      "Image 1\n"
     ]
    },
    {
     "name": "stderr",
     "output_type": "stream",
     "text": [
      "C:\\Users\\aniru\\AppData\\Local\\Temp/ipykernel_2844/2236792386.py:145: RuntimeWarning: divide by zero encountered in true_divide\n",
      "  mahalanobis = np.abs((G - interpolated_mean)/interpolated_std)\n",
      "C:\\Users\\aniru\\AppData\\Local\\Temp/ipykernel_2844/2236792386.py:145: RuntimeWarning: invalid value encountered in true_divide\n",
      "  mahalanobis = np.abs((G - interpolated_mean)/interpolated_std)\n",
      "C:\\Users\\aniru\\AppData\\Local\\Temp/ipykernel_2844/2236792386.py:174: RuntimeWarning: divide by zero encountered in true_divide\n",
      "  U = (G - SM) / SA\n",
      "C:\\Users\\aniru\\AppData\\Local\\Temp/ipykernel_2844/2236792386.py:174: RuntimeWarning: invalid value encountered in true_divide\n",
      "  U = (G - SM) / SA\n",
      "C:\\Users\\aniru\\AppData\\Local\\Temp/ipykernel_2844/2236792386.py:187: RuntimeWarning: divide by zero encountered in true_divide\n",
      "  R_corr = (U_norm/v)*R\n",
      "C:\\Users\\aniru\\AppData\\Local\\Temp/ipykernel_2844/2236792386.py:187: RuntimeWarning: invalid value encountered in multiply\n",
      "  R_corr = (U_norm/v)*R\n",
      "C:\\Users\\aniru\\AppData\\Local\\Temp/ipykernel_2844/2236792386.py:188: RuntimeWarning: divide by zero encountered in true_divide\n",
      "  G_corr = (U_norm/v)*G\n",
      "C:\\Users\\aniru\\AppData\\Local\\Temp/ipykernel_2844/2236792386.py:188: RuntimeWarning: invalid value encountered in multiply\n",
      "  G_corr = (U_norm/v)*G\n",
      "C:\\Users\\aniru\\AppData\\Local\\Temp/ipykernel_2844/2236792386.py:189: RuntimeWarning: divide by zero encountered in true_divide\n",
      "  B_corr = (U_norm/v)*B\n",
      "C:\\Users\\aniru\\AppData\\Local\\Temp/ipykernel_2844/2236792386.py:189: RuntimeWarning: invalid value encountered in multiply\n",
      "  B_corr = (U_norm/v)*B\n"
     ]
    },
    {
     "name": "stdout",
     "output_type": "stream",
     "text": [
      "Image 2\n",
      "Image 3\n",
      "Image 4\n",
      "Image 5\n",
      "Image 6\n",
      "Image 7\n",
      "Image 8\n",
      "Image 9\n",
      "Image 10\n",
      "Image 11\n",
      "Image 12\n",
      "Image 13\n",
      "Image 14\n",
      "Image 15\n",
      "Image 16\n",
      "Image 17\n",
      "Image 18\n",
      "Image 19\n",
      "Image 20\n",
      "Image 21\n",
      "Image 22\n",
      "Image 23\n",
      "Image 24\n",
      "Image 25\n",
      "Image 26\n",
      "Image 27\n",
      "Image 28\n",
      "Image 29\n",
      "Image 30\n",
      "Image 31\n",
      "Image 32\n",
      "Image 33\n",
      "Image 34\n",
      "Image 35\n",
      "Image 36\n",
      "Image 37\n",
      "Image 38\n",
      "Image 39\n",
      "Image 40\n",
      "Image 41\n",
      "Image 42\n",
      "Image 43\n",
      "Image 44\n",
      "Image 45\n",
      "Image 46\n",
      "Image 47\n",
      "Image 48\n",
      "Image 49\n",
      "Image 50\n",
      "Image 51\n",
      "Image 52\n",
      "Image 53\n",
      "Image 54\n",
      "Image 55\n",
      "Image 56\n",
      "Image 57\n",
      "Image 58\n",
      "Image 59\n",
      "Image 60\n",
      "Image 61\n",
      "Image 62\n",
      "Image 63\n"
     ]
    }
   ],
   "source": [
    "enhanced_images = []\n",
    "for i in range(n):\n",
    "    print(\"Image\", i+1)\n",
    "    \n",
    "#     crop_kmc = images[i][5:1254, 100:1555]\n",
    "#     resized_kmc = cv2.resize(crop_kmc, (450, 380))\n",
    "#     padded_avr = pad_image(resized_kmc, (512,512))\n",
    "    \n",
    "    a = enhance_image(images[i], image_window_size=50, background_window_size=90, threshold=1)\n",
    "    enhanced_images.append(a)\n",
    "    name = \"./Processed Images/\" + image_names[i] + \".png\"\n",
    "    write_image(name, enhanced_images[i])"
   ]
  },
  {
   "cell_type": "code",
   "execution_count": 10,
   "id": "48c958dc",
   "metadata": {},
   "outputs": [
    {
     "name": "stdout",
     "output_type": "stream",
     "text": [
      "63\n"
     ]
    }
   ],
   "source": [
    "folder = \"C:/College/Coursework/Semester 8/EC498 - Major Project/Repository/Code/Processed Images/KMC/\"\n",
    "processed_images = load_images_from_folder(folder)\n",
    "image_names = os.listdir(folder)\n",
    "n = np.shape(processed_images)[0]\n",
    "print(n)"
   ]
  },
  {
   "cell_type": "code",
   "execution_count": 29,
   "id": "5b2decd7",
   "metadata": {},
   "outputs": [
    {
     "name": "stdout",
     "output_type": "stream",
     "text": [
      "Image 1\n",
      "Image 2\n",
      "Image 3\n",
      "Image 4\n",
      "Image 5\n",
      "Image 6\n",
      "Image 7\n",
      "Image 8\n",
      "Image 9\n",
      "Image 10\n",
      "Image 11\n",
      "Image 12\n",
      "Image 13\n",
      "Image 14\n",
      "Image 15\n",
      "Image 16\n",
      "Image 17\n",
      "Image 18\n",
      "Image 19\n",
      "Image 20\n",
      "Image 21\n",
      "Image 22\n",
      "Image 23\n",
      "Image 24\n",
      "Image 25\n",
      "Image 26\n",
      "Image 27\n",
      "Image 28\n",
      "Image 29\n",
      "Image 30\n",
      "Image 31\n",
      "Image 32\n",
      "Image 33\n",
      "Image 34\n",
      "Image 35\n",
      "Image 36\n",
      "Image 37\n",
      "Image 38\n",
      "Image 39\n",
      "Image 40\n",
      "Image 41\n",
      "Image 42\n",
      "Image 43\n",
      "Image 44\n",
      "Image 45\n",
      "Image 46\n",
      "Image 47\n",
      "Image 48\n",
      "Image 49\n",
      "Image 50\n",
      "Image 51\n",
      "Image 52\n",
      "Image 53\n",
      "Image 54\n",
      "Image 55\n",
      "Image 56\n",
      "Image 57\n",
      "Image 58\n",
      "Image 59\n",
      "Image 60\n",
      "Image 61\n",
      "Image 62\n",
      "Image 63\n"
     ]
    },
    {
     "data": {
      "image/png": "[encoded data removed]",
      "text/plain": [
       "<Figure size 432x288 with 1 Axes>"
      ]
     },
     "metadata": {
      "needs_background": "light"
     },
     "output_type": "display_data"
    }
   ],
   "source": [
    "for i in range(n):\n",
    "    print(\"Image\", i+1)\n",
    "    #plt.imshow(processed_images[i])\n",
    "    \n",
    "    crop_kmc = processed_images[i][5:1254, 100:1555]\n",
    "    #plt.imshow(crop_kmc)\n",
    "    \n",
    "    resized_kmc = cv2.resize(crop_kmc, (450, 380))\n",
    "    #plt.imshow(resized_kmc)\n",
    "    \n",
    "    padded_avr = pad_image(resized_kmc, (512,512))\n",
    "    plt.imshow(padded_avr)\n",
    "    name = 'C:/College/Coursework/Semester 8/EC498 - Major Project/Repository/Code/Processed Images/KMC/Cropped' + image_names[i] + '.png'\n",
    "    write_image(name, padded_avr)"
   ]
  },
  {
   "cell_type": "code",
   "execution_count": 6,
   "id": "519e5742",
   "metadata": {},
   "outputs": [],
   "source": [
    "# for i in range(n):\n",
    "#     name = \"./Processed Images/KMCTest\" + str(i) + \".png\"\n",
    "#     write_image(name, enhanced_images[i])"
   ]
  },
  {
   "cell_type": "code",
   "execution_count": 7,
   "id": "afeaf007",
   "metadata": {},
   "outputs": [],
   "source": [
    "# a = enhance_image(images[2], image_window_size=50, background_window_size=90, threshold=1)\n",
    "\n",
    "# cv2.namedWindow('Enhanced Image', cv2.WINDOW_NORMAL)\n",
    "# cv2.imshow(\"Enhanced Image\", a)\n",
    "# cv2.waitKey(0)"
   ]
  },
  {
   "cell_type": "code",
   "execution_count": 8,
   "id": "8e80b854",
   "metadata": {},
   "outputs": [],
   "source": [
    "# threshold_list = np.array([0.8, 1, 1.2])\n",
    "# enhanced_images = []\n",
    "# for i in range(3):\n",
    "#     print(\"Image\", i+1)\n",
    "#     a = enhance_image(img, image_window_size=50, background_window_size=125, threshold=threshold_list[i])\n",
    "#     enhanced_images.append(a)"
   ]
  },
  {
   "cell_type": "code",
   "execution_count": 9,
   "id": "3ea6add1",
   "metadata": {},
   "outputs": [],
   "source": [
    "# n = np.shape(enhanced_images)[0]\n",
    "# for i in range(n):\n",
    "#     name = \"./Processed Images/KMC\" + str(threshold_list[i]) + \".png\"\n",
    "#     write_image(name, enhanced_images[i])"
   ]
  },
  {
   "cell_type": "code",
   "execution_count": 10,
   "id": "6ba6855f",
   "metadata": {},
   "outputs": [],
   "source": [
    "# background_window_size_list = np.array([85, 105, 125])\n",
    "# enhanced_images_background_window = []\n",
    "# for i in range(3):\n",
    "#     print(\"Image\", i+1)\n",
    "#     a = enhance_image(img, image_window_size=50, background_window_size=background_window_size_list[i], threshold=1)\n",
    "#     enhanced_images_background_window.append(a)"
   ]
  },
  {
   "cell_type": "code",
   "execution_count": 11,
   "id": "642c1cb4",
   "metadata": {},
   "outputs": [],
   "source": [
    "# n = np.shape(enhanced_images_background_window)[0]\n",
    "# for i in range(n):\n",
    "#     name = \"./Processed Images/KMC\" + str(background_window_size_list[i]) + \".png\"\n",
    "#     write_image(name, enhanced_images_background_window[i])"
   ]
  },
  {
   "cell_type": "code",
   "execution_count": 12,
   "id": "3ce20326",
   "metadata": {
    "colab": {
     "base_uri": "https://localhost:8080/"
    },
    "id": "3cfb446d",
    "outputId": "e361a150-9c82-48c6-c8d7-b3cc10e01864"
   },
   "outputs": [],
   "source": [
    "# x_coordinates, y_coordinates = get_non_uniform_sampling_final(img, 7)\n",
    "# number_of_points = (np.shape(x_coordinates))[0]\n",
    "# print(\"The number of points is\", number_of_points)"
   ]
  },
  {
   "cell_type": "code",
   "execution_count": 13,
   "id": "43e2d1a4",
   "metadata": {},
   "outputs": [],
   "source": [
    "# img[1200:1248, 0:100, :] = 0"
   ]
  },
  {
   "cell_type": "code",
   "execution_count": 14,
   "id": "baf9be34",
   "metadata": {
    "colab": {
     "base_uri": "https://localhost:8080/",
     "height": 493
    },
    "id": "_XLBXI55V_iv",
    "outputId": "1a0dca6c-13cf-4b2c-cde7-ce7ea93c99de"
   },
   "outputs": [],
   "source": [
    "# plt.figure(figsize = (8,8))\n",
    "# plt.imshow(G)\n",
    "# plt.scatter(x_coordinates, y_coordinates, color='red')\n",
    "# plt.colorbar()\n",
    "# plt.title(\"Image and Sampling Points\")"
   ]
  },
  {
   "cell_type": "code",
   "execution_count": 15,
   "id": "22953929",
   "metadata": {
    "id": "968548fd"
   },
   "outputs": [],
   "source": [
    "# mean, std = get_mean_std(G, x_coordinates, y_coordinates, 50)"
   ]
  },
  {
   "cell_type": "code",
   "execution_count": 16,
   "id": "60d76d4e",
   "metadata": {
    "id": "1ce361f5"
   },
   "outputs": [],
   "source": [
    "# xi = np.arange(0, np.shape(G)[1], 1)\n",
    "# yi = np.arange(0, np.shape(G)[0], 1)\n",
    "# x_grid, y_grid = np.meshgrid(xi, yi)\n",
    "\n",
    "# points = []\n",
    "# for i , j in zip(x_coordinates, y_coordinates):\n",
    "#     points.append([i,j])"
   ]
  },
  {
   "cell_type": "code",
   "execution_count": 17,
   "id": "a9b3ae47",
   "metadata": {
    "colab": {
     "base_uri": "https://localhost:8080/",
     "height": 489
    },
    "id": "a55e7259",
    "outputId": "46859f76-fb39-4a5f-e3d7-446f56f35b79"
   },
   "outputs": [],
   "source": [
    "# interpolated_mean = scipy.interpolate.griddata(points, mean, (x_grid, y_grid), method='linear', fill_value=0, rescale=False)\n",
    "\n",
    "# plt.figure(figsize = (8,8))\n",
    "# plt.imshow(interpolated_mean)\n",
    "# plt.colorbar()\n",
    "# plt.title(\"Interpolated Mean\")"
   ]
  },
  {
   "cell_type": "code",
   "execution_count": 18,
   "id": "a7c2db72",
   "metadata": {
    "colab": {
     "base_uri": "https://localhost:8080/",
     "height": 489
    },
    "id": "76b7940a",
    "outputId": "da723c2d-117c-4419-fdbb-7f394643a1d0"
   },
   "outputs": [],
   "source": [
    "# interpolated_std = scipy.interpolate.griddata(points, std, (x_grid, y_grid), method='linear', fill_value=0, rescale=False)\n",
    "\n",
    "# plt.figure(figsize = (8,8))\n",
    "# plt.imshow(interpolated_std)\n",
    "# plt.colorbar()\n",
    "# plt.title(\"Interpolated Standard Deviation\")"
   ]
  },
  {
   "cell_type": "code",
   "execution_count": 19,
   "id": "f2f69d5b",
   "metadata": {
    "colab": {
     "base_uri": "https://localhost:8080/",
     "height": 553
    },
    "id": "2f3b8e89",
    "outputId": "219f3a77-e9fc-4f07-fddc-015d0c8c0c36",
    "scrolled": true
   },
   "outputs": [],
   "source": [
    "# height = np.shape(G)[0]\n",
    "# length = np.shape(G)[1]\n",
    "\n",
    "# mahalanobis = np.empty(np.shape(G))\n",
    "# background = np.zeros(np.shape(G))\n",
    "\n",
    "# G = np.array(G)\n",
    "# interpolated_mean = np.array(interpolated_mean)\n",
    "# interpolated_std = np.array(interpolated_std)\n",
    "\n",
    "# mahalanobis = np.abs((G - interpolated_mean)/interpolated_std)\n",
    "# plt.figure(figsize = (8,8))\n",
    "# plt.imshow(mahalanobis, cmap='binary')\n",
    "# plt.colorbar()\n",
    "# plt.title(\"Mahalanobis Distance\")"
   ]
  },
  {
   "cell_type": "code",
   "execution_count": 20,
   "id": "5a9fd908",
   "metadata": {},
   "outputs": [],
   "source": [
    "# threshold = 1\n",
    "# indexes = np.where(mahalanobis <= threshold)\n",
    "# background = np.zeros([height, length], dtype=int)\n",
    "# background[indexes] = 1\n",
    "\n",
    "# plt.figure(figsize = (8,8))\n",
    "# plt.imshow(background, cmap=\"binary_r\")\n",
    "# plt.colorbar()\n",
    "# plt.title(\"Background\")"
   ]
  },
  {
   "cell_type": "code",
   "execution_count": 21,
   "id": "fb679117",
   "metadata": {
    "colab": {
     "base_uri": "https://localhost:8080/",
     "height": 286
    },
    "id": "c9a75f3b",
    "outputId": "b5d71f69-0698-4ec8-e4fd-bd388d7e7f59"
   },
   "outputs": [],
   "source": [
    "# background = np.array(background)\n",
    "# G = np.array(G)\n",
    "# mult = background*G\n",
    "\n",
    "# mult = mult.astype(np.uint8)\n",
    "# plt.figure(figsize = (8,8))\n",
    "# plt.imshow(mult)\n",
    "# plt.colorbar()\n",
    "# plt.title(\"Mult\")"
   ]
  },
  {
   "cell_type": "code",
   "execution_count": 22,
   "id": "22c33d7b",
   "metadata": {
    "id": "4e215c63",
    "outputId": "1483f2db-d690-418c-a8c5-1702b778a679"
   },
   "outputs": [],
   "source": [
    "# mean_mult = []\n",
    "# std_mult = []\n",
    "# background_window_size = 125\n",
    "  \n",
    "# for i in range(length):\n",
    "#     for j in range(height):\n",
    "#         mult_slice, temp_mean, temp_std = get_roi_values(mult, i , j, background_window_size)\n",
    "#         mult_slice = mult_slice[(mult_slice != 0)]\n",
    "#         if(not np.any(mult_slice)):\n",
    "#             mean_mult.append(0) \n",
    "#             std_mult.append(0)\n",
    "#         else:\n",
    "#             mean_m = np.mean(mult_slice)\n",
    "#             std_m = np.std(mult_slice)\n",
    "#             mean_mult.append(mean_m)\n",
    "#             std_mult.append(std_m)"
   ]
  },
  {
   "cell_type": "code",
   "execution_count": 23,
   "id": "881ed889",
   "metadata": {
    "id": "90f74ee6"
   },
   "outputs": [],
   "source": [
    "# U = np.empty(np.shape(G))\n",
    "# SM = np.array(mean_mult)\n",
    "# SA = np.array(std_mult)\n",
    "# SM = SM.reshape(height, length,  order='F')\n",
    "# SA = SA.reshape(height, length, order='F')\n",
    "# U = (G - SM) / SA"
   ]
  },
  {
   "cell_type": "code",
   "execution_count": 24,
   "id": "13de3242",
   "metadata": {},
   "outputs": [],
   "source": [
    "# U[np.isnan(U)] = 0\n",
    "# U[~np.isfinite(U)] = 0\n",
    "# U_norm = (U - np.min(U))/(np.max(U)- np.min(U))\n",
    "\n",
    "# plt.figure(figsize = (8,8))\n",
    "# plt.imshow(U_norm)\n",
    "# plt.colorbar()\n",
    "# plt.title(\"U norm\")"
   ]
  },
  {
   "cell_type": "code",
   "execution_count": 25,
   "id": "90c78165",
   "metadata": {},
   "outputs": [],
   "source": [
    "# plt.figure(figsize = (8,8))\n",
    "# plt.imshow(SA)\n",
    "# plt.colorbar()\n",
    "# plt.title(\"SA\")\n",
    "\n",
    "# plt.figure(figsize = (8,8))\n",
    "# plt.imshow(SM)\n",
    "# plt.colorbar()\n",
    "# plt.title(\"SM\")"
   ]
  },
  {
   "cell_type": "code",
   "execution_count": 26,
   "id": "81bbd255",
   "metadata": {
    "id": "33061a8c"
   },
   "outputs": [],
   "source": [
    "# v = np.empty(np.shape(G))\n",
    "# R = np.array(R)\n",
    "# G = np.array(G)\n",
    "# B = np.array(B)\n",
    "\n",
    "# v = np.maximum(np.maximum(R,G),B)\n",
    "# R_corr = (U_norm/v)*R\n",
    "# G_corr = (U_norm/v)*G\n",
    "# B_corr = (U_norm/v)*B\n",
    "\n",
    "# R_corr[np.isnan(R_corr)] = 0\n",
    "# G_corr[np.isnan(G_corr)] = 0\n",
    "# B_corr[np.isnan(B_corr)] = 0\n",
    "\n",
    "# plt.figure(figsize = (8,8))\n",
    "# plt.imshow(R_corr)\n",
    "# plt.colorbar()\n",
    "# plt.title(\"Corrected R plane\")\n",
    "\n",
    "# plt.figure(figsize = (8,8))\n",
    "# plt.imshow(G_corr)\n",
    "# plt.colorbar()\n",
    "# plt.title(\"Corrected G plane\")\n",
    "\n",
    "# plt.figure(figsize = (8,8))\n",
    "# plt.imshow(B_corr)\n",
    "# plt.colorbar()\n",
    "# plt.title(\"Corrected B plane\")"
   ]
  },
  {
   "cell_type": "code",
   "execution_count": 27,
   "id": "7656b86e",
   "metadata": {
    "id": "gn99dylI2JWD"
   },
   "outputs": [],
   "source": [
    "# enhanced_image = cv2.merge([B_corr, G_corr, R_corr])"
   ]
  },
  {
   "cell_type": "code",
   "execution_count": 28,
   "id": "5ea61855",
   "metadata": {
    "id": "480b5b96"
   },
   "outputs": [],
   "source": [
    "# cv2.namedWindow('Enhanced Image', cv2.WINDOW_NORMAL)\n",
    "# cv2.imshow(\"Enhanced Image\", enhanced_image)\n",
    "# cv2.waitKey(0)"
   ]
  },
  {
   "cell_type": "code",
   "execution_count": null,
   "id": "01084e83",
   "metadata": {},
   "outputs": [],
   "source": []
  }
 ],
 "metadata": {
  "colab": {
   "provenance": []
  },
  "kernelspec": {
   "display_name": "Python 3 (ipykernel)",
   "language": "python",
   "name": "python3"
  },
  "language_info": {
   "codemirror_mode": {
    "name": "ipython",
    "version": 3
   },
   "file_extension": ".py",
   "mimetype": "text/x-python",
   "name": "python",
   "nbconvert_exporter": "python",
   "pygments_lexer": "ipython3",
   "version": "3.9.7"
  }
 },
 "nbformat": 4,
 "nbformat_minor": 5
}
