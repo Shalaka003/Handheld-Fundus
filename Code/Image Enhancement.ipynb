{
 "cells": [
  {
   "cell_type": "code",
   "execution_count": 1,
   "id": "60c19e45",
   "metadata": {
    "id": "066f2b3d"
   },
   "outputs": [],
   "source": [
    "import cv2\n",
    "import math\n",
    "import scipy\n",
    "import numpy as np\n",
    "import matplotlib.pyplot as plt\n",
    "from scipy.interpolate import griddata"
   ]
  },
  {
   "cell_type": "code",
   "execution_count": 2,
   "id": "61d38ea7",
   "metadata": {
    "id": "3c791f9e"
   },
   "outputs": [],
   "source": [
    "def get_non_uniform_sampling(source, steps):\n",
    "    shape = np.shape(source)\n",
    "    height = shape[0]\n",
    "    length = shape[1]\n",
    "    \n",
    "    x_centre = int(length/2)\n",
    "    y_centre = int(height/2)\n",
    "    radius = int(min(length, height)/2)\n",
    "    \n",
    "    pi = np.pi\n",
    "    multiplier = 0.5\n",
    "    x_coordinates = []\n",
    "    y_coordinates = []\n",
    "\n",
    "    for r in steps:\n",
    "        number_of_points = (1/multiplier) * 2\n",
    "\n",
    "        for j in range(int(number_of_points)):\n",
    "            theta = j*pi*multiplier\n",
    "            x = x_centre + (r * np.cos(theta))\n",
    "            y = y_centre + (r * np.sin(theta))\n",
    "            \n",
    "            if(x<length and x>0 and y<height and y>0):\n",
    "                x_coordinates.append(int(x))\n",
    "                y_coordinates.append(int(y))\n",
    "\n",
    "        multiplier = multiplier/2\n",
    "    \n",
    "    return x_coordinates, y_coordinates\n",
    "    \n",
    "    return x_coordinates, y_coordinates\n",
    "\n",
    "def get_roi_values(src, x , y, window_size):\n",
    "    height = np.shape(img)[0]\n",
    "    length = np.shape(img)[1]\n",
    "    \n",
    "    left = x - int(window_size/2)\n",
    "    left = max(0, left)\n",
    "    \n",
    "    right = x + int(window_size/2)\n",
    "    right = min(length, right)\n",
    "    \n",
    "    top = y - int(window_size/2)\n",
    "    top = max(0, top)\n",
    "    \n",
    "    bottom = y + int(window_size/2)\n",
    "    bottom = min(height, bottom)\n",
    "    \n",
    "    slice_arr = src[top:bottom, left:right]\n",
    "    \n",
    "    return slice_arr, np.mean(slice_arr), np.std(slice_arr)\n",
    "\n",
    "def get_mean_std(src, x_coordinates, y_coordinates, window_size):\n",
    "    mean = []\n",
    "    std = []\n",
    "    number_of_points = np.shape(x_coordinates)[0]\n",
    "    \n",
    "    for i in range(number_of_points):\n",
    "        slice_arr, slice_mean, slice_std = get_roi_values(src, x_coordinates[i], y_coordinates[i], window_size)\n",
    "        mean.append(slice_mean)\n",
    "        std.append(slice_std)\n",
    "    \n",
    "    return mean, std\n",
    "\n",
    "def sort_counterclockwise(points, centre = None):\n",
    "    if centre:\n",
    "        centre_x, centre_y = centre\n",
    "    else:\n",
    "        centre_x, centre_y = sum([x for x,_ in points])/len(points), sum([y for _,y in points])/len(points)\n",
    "    angles = [math.atan2(y - centre_y, x - centre_x) for x,y in points]\n",
    "    counterclockwise_indices = sorted(range(len(points)), key=lambda i: angles[i])\n",
    "    counterclockwise_points = [points[i] for i in counterclockwise_indices]\n",
    "    return counterclockwise_points\n",
    "\n",
    "def get_non_uniform_sampling_final(img, number_of_steps):\n",
    "    shape = np.shape(img)\n",
    "    height = shape[0]\n",
    "    length = shape[1]\n",
    "    radius = int(min(length, height)/2)\n",
    "    \n",
    "    gray = cv2.cvtColor(img, cv2.COLOR_BGR2GRAY)\n",
    "    blurred = cv2.GaussianBlur(gray, (3, 3), 0)\n",
    "    edged = cv2.Canny(blurred, 10, 100)\n",
    "    arr_edge = np.where(edged==255)\n",
    "    x_edge = arr_edge[1]\n",
    "    y_edge = arr_edge[0]\n",
    "    \n",
    "    steps = np.linspace(0, radius, number_of_steps)\n",
    "\n",
    "    for i in range(number_of_steps):\n",
    "        steps[i] = steps[i] - int(math.pow(i, 3)) + int(math.pow(i, 1.5))\n",
    "\n",
    "    steps = np.array(steps, dtype=int)\n",
    "    \n",
    "    x_coordinates, y_coordinates = get_non_uniform_sampling(img, steps)\n",
    "    points = []\n",
    "    for i , j in zip(x_edge, y_edge):\n",
    "        points.append((i,j))\n",
    "        \n",
    "    sorted_points = sort_counterclockwise(points)\n",
    "    t = np.transpose(sorted_points)\n",
    "    x_edge = t[0]\n",
    "    y_edge = t[1]\n",
    "\n",
    "    interval = 2**(number_of_steps + 1)\n",
    "\n",
    "    x_edge = np.array(x_edge[0::interval] ,dtype=int)\n",
    "    y_edge = np.array(y_edge[0::interval], dtype=int)\n",
    "    \n",
    "    x_coordinates = np.concatenate([x_coordinates, x_edge])\n",
    "    y_coordinates = np.concatenate([y_coordinates, y_edge])\n",
    "    \n",
    "    return x_coordinates, y_coordinates\n",
    "\n",
    "def enhance_image(img, image_window_size, background_window_size, threshold):\n",
    "    (B,G,R) = cv2.split(img)\n",
    "    height = np.shape(G)[0]\n",
    "    length = np.shape(G)[1]\n",
    "    \n",
    "    # Non Uniform Sampling --------------------------------------------------------------------------------------\n",
    "    x_coordinates, y_coordinates = get_non_uniform_sampling_final(img, 5)\n",
    "    \n",
    "    # Extrapolated mean and standard deviation ------------------------------------------------------------------\n",
    "    mean, std = get_mean_std(G, x_coordinates, y_coordinates, image_window_size)\n",
    "    \n",
    "    xi = np.arange(0, length, 1)\n",
    "    yi = np.arange(0, height, 1)\n",
    "    x_grid, y_grid = np.meshgrid(xi, yi)\n",
    "\n",
    "    points = []\n",
    "    for i , j in zip(x_coordinates, y_coordinates):\n",
    "        points.append([i,j])\n",
    "    \n",
    "    interpolated_mean = scipy.interpolate.griddata(points, mean, (x_grid, y_grid), method='linear', fill_value=0, rescale=False)\n",
    "    interpolated_std = scipy.interpolate.griddata(points, std, (x_grid, y_grid), method='linear', fill_value=0, rescale=False)\n",
    "    \n",
    "    # Mahalanobis Distance---------------------------------------------------------------------------------------\n",
    "    mahalanobis = np.empty(np.shape(G))\n",
    "    background = np.zeros(np.shape(G))\n",
    "    G = np.array(G)\n",
    "    \n",
    "    interpolated_mean = np.array(interpolated_mean)\n",
    "    interpolated_std = np.array(interpolated_std)\n",
    "    mahalanobis = np.abs((G - interpolated_mean)/interpolated_std)\n",
    "    \n",
    "    indexes = np.where(mahalanobis <= threshold)\n",
    "    background = np.zeros([height, length], dtype=int)\n",
    "    background[indexes] = 1\n",
    "    mult = background*G\n",
    "    \n",
    "    # Background operations---------------------------------------------------------------------------------------\n",
    "    mean_mult = []\n",
    "    std_mult = []\n",
    "\n",
    "    for i in range(length):\n",
    "        for j in range(height):\n",
    "            mult_slice, temp_mean, temp_std = get_roi_values(mult, i , j, background_window_size)\n",
    "            mult_slice = mult_slice[(mult_slice != 0)]\n",
    "            if(not np.any(mult_slice)):\n",
    "                mean_mult.append(0) \n",
    "                std_mult.append(0)\n",
    "            else:\n",
    "                mean_m = np.mean(mult_slice)\n",
    "                std_m = np.std(mult_slice)\n",
    "                mean_mult.append(mean_m)\n",
    "                std_mult.append(std_m)\n",
    "    \n",
    "    U = np.empty(np.shape(G))\n",
    "    SM = np.array(mean_mult)\n",
    "    SA = np.array(std_mult)\n",
    "    SM = SM.reshape(height, length,  order='F')\n",
    "    SA = SA.reshape(height, length, order='F')\n",
    "    U = (G - SM) / SA\n",
    "    \n",
    "    U[np.isnan(U)] = 0\n",
    "    U[~np.isfinite(U)] = 0\n",
    "    U_norm = (U - np.min(U))/(np.max(U)- np.min(U))\n",
    "    \n",
    "    # Final Processing ------------------------------------------------------------------------------------------\n",
    "    v = np.empty(np.shape(G))\n",
    "    R = np.array(R)\n",
    "    G = np.array(G)\n",
    "    B = np.array(B)\n",
    "\n",
    "    v = np.maximum(np.maximum(R,G),B)\n",
    "    R_corr = (U_norm/v)*R\n",
    "    G_corr = (U_norm/v)*G\n",
    "    B_corr = (U_norm/v)*B\n",
    "\n",
    "    R_corr[np.isnan(R_corr)] = 0\n",
    "    G_corr[np.isnan(G_corr)] = 0\n",
    "    B_corr[np.isnan(B_corr)] = 0\n",
    "    \n",
    "    enhanced_image = cv2.merge([B_corr, G_corr, R_corr])\n",
    "\n",
    "    return enhanced_image"
   ]
  },
  {
   "cell_type": "code",
   "execution_count": 3,
   "id": "f4a91e56",
   "metadata": {},
   "outputs": [
    {
     "name": "stdout",
     "output_type": "stream",
     "text": [
      "Image Dimensions - (1248, 1664, 3)\n"
     ]
    }
   ],
   "source": [
    "img = cv2.imread(\"./Images/OD0058EY.JPG\")\n",
    "img[1200:1248, 0:100, :] = 0\n",
    "\n",
    "(B,G,R) = cv2.split(img)\n",
    "\n",
    "print(\"Image Dimensions -\", np.shape(img))\n",
    "# cv2.imshow(\"Source Image\", G)\n",
    "# cv2.waitKey(0)"
   ]
  },
  {
   "cell_type": "code",
   "execution_count": null,
   "id": "7b044bfd",
   "metadata": {},
   "outputs": [],
   "source": [
    "a = enhance_image(img, 50, 125, 0.9)\n",
    "\n",
    "cv2.namedWindow('Enhanced Image', cv2.WINDOW_NORMAL)\n",
    "cv2.imshow(\"Enhanced Image\", a)\n",
    "cv2.waitKey(0)"
   ]
  },
  {
   "cell_type": "code",
   "execution_count": null,
   "id": "3ce20326",
   "metadata": {
    "colab": {
     "base_uri": "https://localhost:8080/"
    },
    "id": "3cfb446d",
    "outputId": "e361a150-9c82-48c6-c8d7-b3cc10e01864"
   },
   "outputs": [],
   "source": [
    "# x_coordinates, y_coordinates = get_non_uniform_sampling_final(img, 7)\n",
    "# number_of_points = (np.shape(x_coordinates))[0]\n",
    "# print(\"The number of points is\", number_of_points)"
   ]
  },
  {
   "cell_type": "code",
   "execution_count": null,
   "id": "43e2d1a4",
   "metadata": {},
   "outputs": [],
   "source": [
    "# img[1200:1248, 0:100, :] = 0"
   ]
  },
  {
   "cell_type": "code",
   "execution_count": null,
   "id": "baf9be34",
   "metadata": {
    "colab": {
     "base_uri": "https://localhost:8080/",
     "height": 493
    },
    "id": "_XLBXI55V_iv",
    "outputId": "1a0dca6c-13cf-4b2c-cde7-ce7ea93c99de"
   },
   "outputs": [],
   "source": [
    "# plt.figure(figsize = (8,8))\n",
    "# plt.imshow(G)\n",
    "# plt.scatter(x_coordinates, y_coordinates, color='red')\n",
    "# plt.colorbar()\n",
    "# plt.title(\"Image and Sampling Points\")"
   ]
  },
  {
   "cell_type": "code",
   "execution_count": null,
   "id": "22953929",
   "metadata": {
    "id": "968548fd"
   },
   "outputs": [],
   "source": [
    "# mean, std = get_mean_std(G, x_coordinates, y_coordinates, 50)"
   ]
  },
  {
   "cell_type": "code",
   "execution_count": null,
   "id": "60d76d4e",
   "metadata": {
    "id": "1ce361f5"
   },
   "outputs": [],
   "source": [
    "# xi = np.arange(0, np.shape(G)[1], 1)\n",
    "# yi = np.arange(0, np.shape(G)[0], 1)\n",
    "# x_grid, y_grid = np.meshgrid(xi, yi)\n",
    "\n",
    "# points = []\n",
    "# for i , j in zip(x_coordinates, y_coordinates):\n",
    "#     points.append([i,j])"
   ]
  },
  {
   "cell_type": "code",
   "execution_count": null,
   "id": "a9b3ae47",
   "metadata": {
    "colab": {
     "base_uri": "https://localhost:8080/",
     "height": 489
    },
    "id": "a55e7259",
    "outputId": "46859f76-fb39-4a5f-e3d7-446f56f35b79"
   },
   "outputs": [],
   "source": [
    "# interpolated_mean = scipy.interpolate.griddata(points, mean, (x_grid, y_grid), method='linear', fill_value=0, rescale=False)\n",
    "\n",
    "# plt.figure(figsize = (8,8))\n",
    "# plt.imshow(interpolated_mean)\n",
    "# plt.colorbar()\n",
    "# plt.title(\"Interpolated Mean\")"
   ]
  },
  {
   "cell_type": "code",
   "execution_count": null,
   "id": "a7c2db72",
   "metadata": {
    "colab": {
     "base_uri": "https://localhost:8080/",
     "height": 489
    },
    "id": "76b7940a",
    "outputId": "da723c2d-117c-4419-fdbb-7f394643a1d0"
   },
   "outputs": [],
   "source": [
    "# interpolated_std = scipy.interpolate.griddata(points, std, (x_grid, y_grid), method='linear', fill_value=0, rescale=False)\n",
    "\n",
    "# plt.figure(figsize = (8,8))\n",
    "# plt.imshow(interpolated_std)\n",
    "# plt.colorbar()\n",
    "# plt.title(\"Interpolated Standard Deviation\")"
   ]
  },
  {
   "cell_type": "code",
   "execution_count": null,
   "id": "f2f69d5b",
   "metadata": {
    "colab": {
     "base_uri": "https://localhost:8080/",
     "height": 553
    },
    "id": "2f3b8e89",
    "outputId": "219f3a77-e9fc-4f07-fddc-015d0c8c0c36",
    "scrolled": true
   },
   "outputs": [],
   "source": [
    "# height = np.shape(G)[0]\n",
    "# length = np.shape(G)[1]\n",
    "\n",
    "# mahalanobis = np.empty(np.shape(G))\n",
    "# background = np.zeros(np.shape(G))\n",
    "\n",
    "# G = np.array(G)\n",
    "# interpolated_mean = np.array(interpolated_mean)\n",
    "# interpolated_std = np.array(interpolated_std)\n",
    "\n",
    "# mahalanobis = np.abs((G - interpolated_mean)/interpolated_std)\n",
    "# plt.figure(figsize = (8,8))\n",
    "# plt.imshow(mahalanobis, cmap='binary')\n",
    "# plt.colorbar()\n",
    "# plt.title(\"Mahalanobis Distance\")"
   ]
  },
  {
   "cell_type": "code",
   "execution_count": null,
   "id": "5a9fd908",
   "metadata": {},
   "outputs": [],
   "source": [
    "# threshold = 1\n",
    "# indexes = np.where(mahalanobis <= threshold)\n",
    "# background = np.zeros([height, length], dtype=int)\n",
    "# background[indexes] = 1\n",
    "\n",
    "# plt.figure(figsize = (8,8))\n",
    "# plt.imshow(background, cmap=\"binary_r\")\n",
    "# plt.colorbar()\n",
    "# plt.title(\"Background\")"
   ]
  },
  {
   "cell_type": "code",
   "execution_count": null,
   "id": "fb679117",
   "metadata": {
    "colab": {
     "base_uri": "https://localhost:8080/",
     "height": 286
    },
    "id": "c9a75f3b",
    "outputId": "b5d71f69-0698-4ec8-e4fd-bd388d7e7f59"
   },
   "outputs": [],
   "source": [
    "# background = np.array(background)\n",
    "# G = np.array(G)\n",
    "# mult = background*G\n",
    "\n",
    "# mult = mult.astype(np.uint8)\n",
    "# plt.figure(figsize = (8,8))\n",
    "# plt.imshow(mult)\n",
    "# plt.colorbar()\n",
    "# plt.title(\"Mult\")"
   ]
  },
  {
   "cell_type": "code",
   "execution_count": null,
   "id": "22c33d7b",
   "metadata": {
    "id": "4e215c63",
    "outputId": "1483f2db-d690-418c-a8c5-1702b778a679"
   },
   "outputs": [],
   "source": [
    "# mean_mult = []\n",
    "# std_mult = []\n",
    "# background_window_size = 125\n",
    "  \n",
    "# for i in range(length):\n",
    "#     for j in range(height):\n",
    "#         mult_slice, temp_mean, temp_std = get_roi_values(mult, i , j, background_window_size)\n",
    "#         mult_slice = mult_slice[(mult_slice != 0)]\n",
    "#         if(not np.any(mult_slice)):\n",
    "#             mean_mult.append(0) \n",
    "#             std_mult.append(0)\n",
    "#         else:\n",
    "#             mean_m = np.mean(mult_slice)\n",
    "#             std_m = np.std(mult_slice)\n",
    "#             mean_mult.append(mean_m)\n",
    "#             std_mult.append(std_m)"
   ]
  },
  {
   "cell_type": "code",
   "execution_count": null,
   "id": "881ed889",
   "metadata": {
    "id": "90f74ee6"
   },
   "outputs": [],
   "source": [
    "# U = np.empty(np.shape(G))\n",
    "# SM = np.array(mean_mult)\n",
    "# SA = np.array(std_mult)\n",
    "# SM = SM.reshape(height, length,  order='F')\n",
    "# SA = SA.reshape(height, length, order='F')\n",
    "# U = (G - SM) / SA"
   ]
  },
  {
   "cell_type": "code",
   "execution_count": null,
   "id": "13de3242",
   "metadata": {},
   "outputs": [],
   "source": [
    "# U[np.isnan(U)] = 0\n",
    "# U[~np.isfinite(U)] = 0\n",
    "# U_norm = (U - np.min(U))/(np.max(U)- np.min(U))\n",
    "\n",
    "# plt.figure(figsize = (8,8))\n",
    "# plt.imshow(U_norm)\n",
    "# plt.colorbar()\n",
    "# plt.title(\"U norm\")"
   ]
  },
  {
   "cell_type": "code",
   "execution_count": null,
   "id": "90c78165",
   "metadata": {},
   "outputs": [],
   "source": [
    "# plt.figure(figsize = (8,8))\n",
    "# plt.imshow(SA)\n",
    "# plt.colorbar()\n",
    "# plt.title(\"SA\")\n",
    "\n",
    "# plt.figure(figsize = (8,8))\n",
    "# plt.imshow(SM)\n",
    "# plt.colorbar()\n",
    "# plt.title(\"SM\")"
   ]
  },
  {
   "cell_type": "code",
   "execution_count": null,
   "id": "81bbd255",
   "metadata": {
    "id": "33061a8c"
   },
   "outputs": [],
   "source": [
    "# v = np.empty(np.shape(G))\n",
    "# R = np.array(R)\n",
    "# G = np.array(G)\n",
    "# B = np.array(B)\n",
    "\n",
    "# v = np.maximum(np.maximum(R,G),B)\n",
    "# R_corr = (U_norm/v)*R\n",
    "# G_corr = (U_norm/v)*G\n",
    "# B_corr = (U_norm/v)*B\n",
    "\n",
    "# R_corr[np.isnan(R_corr)] = 0\n",
    "# G_corr[np.isnan(G_corr)] = 0\n",
    "# B_corr[np.isnan(B_corr)] = 0\n",
    "\n",
    "# plt.figure(figsize = (8,8))\n",
    "# plt.imshow(R_corr)\n",
    "# plt.colorbar()\n",
    "# plt.title(\"Corrected R plane\")\n",
    "\n",
    "# plt.figure(figsize = (8,8))\n",
    "# plt.imshow(G_corr)\n",
    "# plt.colorbar()\n",
    "# plt.title(\"Corrected G plane\")\n",
    "\n",
    "# plt.figure(figsize = (8,8))\n",
    "# plt.imshow(B_corr)\n",
    "# plt.colorbar()\n",
    "# plt.title(\"Corrected B plane\")"
   ]
  },
  {
   "cell_type": "code",
   "execution_count": null,
   "id": "7656b86e",
   "metadata": {
    "id": "gn99dylI2JWD"
   },
   "outputs": [],
   "source": [
    "# enhanced_image = cv2.merge([B_corr, G_corr, R_corr])"
   ]
  },
  {
   "cell_type": "code",
   "execution_count": null,
   "id": "5ea61855",
   "metadata": {
    "id": "480b5b96"
   },
   "outputs": [],
   "source": [
    "# cv2.namedWindow('Enhanced Image', cv2.WINDOW_NORMAL)\n",
    "# cv2.imshow(\"Enhanced Image\", enhanced_image)\n",
    "# cv2.waitKey(0)"
   ]
  },
  {
   "cell_type": "code",
   "execution_count": null,
   "id": "5d474465",
   "metadata": {},
   "outputs": [],
   "source": []
  }
 ],
 "metadata": {
  "colab": {
   "provenance": []
  },
  "kernelspec": {
   "display_name": "Python 3 (ipykernel)",
   "language": "python",
   "name": "python3"
  },
  "language_info": {
   "codemirror_mode": {
    "name": "ipython",
    "version": 3
   },
   "file_extension": ".py",
   "mimetype": "text/x-python",
   "name": "python",
   "nbconvert_exporter": "python",
   "pygments_lexer": "ipython3",
   "version": "3.9.7"
  }
 },
 "nbformat": 4,
 "nbformat_minor": 5
}
