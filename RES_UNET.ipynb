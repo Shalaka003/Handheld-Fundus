{
  "nbformat": 4,
  "nbformat_minor": 0,
  "metadata": {
    "colab": {
      "provenance": [],
      "authorship_tag": "ABX9TyNuiWFonKhO6Htklu7uyJPM",
      "include_colab_link": true
    },
    "kernelspec": {
      "name": "python3",
      "display_name": "Python 3"
    },
    "language_info": {
      "name": "python"
    },
    "accelerator": "GPU",
    "gpuClass": "standard"
  },
  "cells": [
    {
      "cell_type": "markdown",
      "metadata": {
        "id": "view-in-github",
        "colab_type": "text"
      },
      "source": [
        "<a href=\"https://colab.research.google.com/github/Shalaka003/Handheld-Fundus/blob/main/RES_UNET.ipynb\" target=\"_parent\"><img src=\"https://colab.research.google.com/assets/colab-badge.svg\" alt=\"Open In Colab\"/></a>"
      ]
    },
    {
      "cell_type": "code",
      "execution_count": 1,
      "metadata": {
        "colab": {
          "base_uri": "https://localhost:8080/"
        },
        "id": "V54wOHaqWgdc",
        "outputId": "fe911f3d-408a-49e4-9ff6-83e94e02b32b"
      },
      "outputs": [
        {
          "output_type": "stream",
          "name": "stdout",
          "text": [
            "Mounted at /content/gdrive\n"
          ]
        }
      ],
      "source": [
        "from google.colab import drive\n",
        "drive.mount('/content/gdrive')"
      ]
    },
    {
      "cell_type": "code",
      "source": [
        "!pip install evaluation_metrics"
      ],
      "metadata": {
        "colab": {
          "base_uri": "https://localhost:8080/"
        },
        "id": "-vikb_MUM8wJ",
        "outputId": "0c1d2349-f19c-4d8d-fe55-64071ecd39bc"
      },
      "execution_count": null,
      "outputs": [
        {
          "output_type": "stream",
          "name": "stdout",
          "text": [
            "Looking in indexes: https://pypi.org/simple, https://us-python.pkg.dev/colab-wheels/public/simple/\n",
            "\u001b[31mERROR: Could not find a version that satisfies the requirement evaluation_metrics (from versions: none)\u001b[0m\u001b[31m\n",
            "\u001b[0m\u001b[31mERROR: No matching distribution found for evaluation_metrics\u001b[0m\u001b[31m\n",
            "\u001b[0m"
          ]
        }
      ]
    },
    {
      "cell_type": "code",
      "source": [
        "!python train.py"
      ],
      "metadata": {
        "colab": {
          "base_uri": "https://localhost:8080/"
        },
        "id": "sBwAZfqIWokk",
        "outputId": "cb843440-6e43-45af-cef0-bee40dc60c06"
      },
      "execution_count": 26,
      "outputs": [
        {
          "output_type": "stream",
          "name": "stdout",
          "text": [
            "2023-03-02 07:54:08.986524: I tensorflow/core/platform/cpu_feature_guard.cc:193] This TensorFlow binary is optimized with oneAPI Deep Neural Network Library (oneDNN) to use the following CPU instructions in performance-critical operations:  AVX2 FMA\n",
            "To enable them in other operations, rebuild TensorFlow with the appropriate compiler flags.\n",
            "2023-03-02 07:54:10.004127: W tensorflow/compiler/xla/stream_executor/platform/default/dso_loader.cc:64] Could not load dynamic library 'libnvinfer.so.7'; dlerror: libnvinfer.so.7: cannot open shared object file: No such file or directory; LD_LIBRARY_PATH: /usr/local/lib/python3.8/dist-packages/cv2/../../lib64:/usr/lib64-nvidia\n",
            "2023-03-02 07:54:10.004240: W tensorflow/compiler/xla/stream_executor/platform/default/dso_loader.cc:64] Could not load dynamic library 'libnvinfer_plugin.so.7'; dlerror: libnvinfer_plugin.so.7: cannot open shared object file: No such file or directory; LD_LIBRARY_PATH: /usr/local/lib/python3.8/dist-packages/cv2/../../lib64:/usr/lib64-nvidia\n",
            "2023-03-02 07:54:10.004260: W tensorflow/compiler/tf2tensorrt/utils/py_utils.cc:38] TF-TRT Warning: Cannot dlopen some TensorRT libraries. If you would like to use Nvidia GPU with TensorRT, please make sure the missing libraries mentioned above are installed properly.\n",
            "(512, 512, 3)\n",
            "(512, 512, 3)\n",
            "(512, 512, 3)\n",
            "(512, 512, 3)\n",
            "(512, 512, 3)\n",
            "(512, 512, 3)\n",
            "(512, 512, 3)\n",
            "(512, 512, 3)\n",
            "(512, 512, 3)\n",
            "(512, 512, 3)\n",
            "(512, 512, 3)\n",
            "(512, 512, 3)\n",
            "(512, 512, 3)\n",
            "(512, 512, 3)\n",
            "(512, 512, 3)\n",
            "(512, 512, 3)\n",
            "(512, 512, 3)\n",
            "(512, 512, 3)\n",
            "(512, 512, 3)\n",
            "(512, 512, 3)\n",
            "(512, 512, 3)\n",
            "(512, 512, 3)\n",
            "(512, 512, 3)\n",
            "(512, 512, 3)\n",
            "(512, 512, 3)\n",
            "(512, 512, 3)\n",
            "(512, 512, 3)\n",
            "(512, 512, 3)\n",
            "(512, 512, 3)\n",
            "(512, 512, 3)\n",
            "(512, 512, 3)\n",
            "(512, 512, 3)\n",
            "(512, 512, 3)\n",
            "(512, 512, 3)\n",
            "(512, 512, 3)\n",
            "(512, 512, 3)\n",
            "(512, 512, 3)\n",
            "(512, 512, 3)\n",
            "(512, 512, 3)\n",
            "(512, 512, 3)\n",
            "(512, 512, 3)\n",
            "(512, 512, 3)\n",
            "(512, 512, 3)\n",
            "(512, 512, 3)\n",
            "(512, 512, 3)\n",
            "(512, 512, 3)\n",
            "(512, 512, 3)\n",
            "(512, 512, 3)\n",
            "(512, 512, 3)\n",
            "(512, 512, 3)\n",
            "(512, 512, 3)\n",
            "(512, 512, 3)\n",
            "(512, 512, 3)\n",
            "(512, 512, 3)\n",
            "(512, 512, 3)\n",
            "(512, 512, 3)\n",
            "(512, 512, 3)\n",
            "(512, 512, 3)\n",
            "(512, 512, 3)\n",
            "(512, 512, 3)\n",
            "(512, 512, 3)\n",
            "(512, 512, 3)\n",
            "(512, 512, 3)\n",
            "(512, 512, 3)\n",
            "(512, 512, 3)\n",
            "(512, 512, 3)\n",
            "(512, 512, 3)\n",
            "(512, 512, 3)\n",
            "(512, 512, 3)\n",
            "(512, 512, 3)\n",
            "(512, 512, 3)\n",
            "(512, 512, 3)\n",
            "(512, 512, 3)\n",
            "(512, 512, 3)\n",
            "(512, 512, 3)\n",
            "(512, 512, 3)\n",
            "(512, 512, 3)\n",
            "(512, 512, 3)\n",
            "(512, 512, 3)\n",
            "(512, 512, 3)\n",
            "(512, 512, 3)\n",
            "(512, 512, 3)\n",
            "(512, 512, 3)\n",
            "(512, 512, 3)\n",
            "(512, 512, 3)\n",
            "(512, 512, 3)\n",
            "(512, 512, 3)\n",
            "(512, 512, 3)\n",
            "(512, 512, 3)\n",
            "(512, 512, 3)\n",
            "(512, 512, 3)\n",
            "(512, 512, 3)\n",
            "(512, 512, 3)\n",
            "(512, 512, 3)\n",
            "(512, 512, 3)\n",
            "(512, 512, 3)\n",
            "(512, 512, 3)\n",
            "(512, 512, 3)\n",
            "(512, 512, 3)\n",
            "(99, 512, 512, 3)\n",
            "2023-03-02 07:54:20.441993: W tensorflow/core/common_runtime/gpu/gpu_bfc_allocator.cc:42] Overriding orig_value setting because the TF_FORCE_GPU_ALLOW_GROWTH environment variable is set. Original config value was 0.\n",
            "Epoch 1/2\n",
            "2023-03-02 07:54:30.527350: E tensorflow/core/grappler/optimizers/meta_optimizer.cc:954] layout failed: INVALID_ARGUMENT: Size of values 0 does not match size of permutation 4 @ fanin shape inmodel/dropout/dropout/SelectV2-2-TransposeNHWCToNCHW-LayoutOptimizer\n",
            "2023-03-02 07:54:34.955199: W tensorflow/tsl/framework/bfc_allocator.cc:290] Allocator (GPU_0_bfc) ran out of memory trying to allocate 6.87GiB with freed_by_count=0. The caller indicates that this is not a failure, but this may mean that there could be performance gains if more memory were available.\n",
            "2023-03-02 07:54:34.955265: W tensorflow/tsl/framework/bfc_allocator.cc:290] Allocator (GPU_0_bfc) ran out of memory trying to allocate 6.87GiB with freed_by_count=0. The caller indicates that this is not a failure, but this may mean that there could be performance gains if more memory were available.\n",
            "2023-03-02 07:54:35.220284: W tensorflow/tsl/framework/bfc_allocator.cc:290] Allocator (GPU_0_bfc) ran out of memory trying to allocate 7.57GiB with freed_by_count=0. The caller indicates that this is not a failure, but this may mean that there could be performance gains if more memory were available.\n",
            "2023-03-02 07:54:35.220350: W tensorflow/tsl/framework/bfc_allocator.cc:290] Allocator (GPU_0_bfc) ran out of memory trying to allocate 7.57GiB with freed_by_count=0. The caller indicates that this is not a failure, but this may mean that there could be performance gains if more memory were available.\n",
            "2023-03-02 07:54:36.000975: W tensorflow/tsl/framework/bfc_allocator.cc:290] Allocator (GPU_0_bfc) ran out of memory trying to allocate 6.77GiB with freed_by_count=0. The caller indicates that this is not a failure, but this may mean that there could be performance gains if more memory were available.\n",
            "2023-03-02 07:54:36.001065: W tensorflow/tsl/framework/bfc_allocator.cc:290] Allocator (GPU_0_bfc) ran out of memory trying to allocate 6.77GiB with freed_by_count=0. The caller indicates that this is not a failure, but this may mean that there could be performance gains if more memory were available.\n",
            "2023-03-02 07:54:38.461953: W tensorflow/tsl/framework/bfc_allocator.cc:290] Allocator (GPU_0_bfc) ran out of memory trying to allocate 2.27GiB with freed_by_count=0. The caller indicates that this is not a failure, but this may mean that there could be performance gains if more memory were available.\n",
            "2023-03-02 07:54:38.462011: W tensorflow/tsl/framework/bfc_allocator.cc:290] Allocator (GPU_0_bfc) ran out of memory trying to allocate 2.27GiB with freed_by_count=0. The caller indicates that this is not a failure, but this may mean that there could be performance gains if more memory were available.\n",
            "2023-03-02 07:54:43.035305: W tensorflow/tsl/framework/bfc_allocator.cc:290] Allocator (GPU_0_bfc) ran out of memory trying to allocate 6.57GiB with freed_by_count=0. The caller indicates that this is not a failure, but this may mean that there could be performance gains if more memory were available.\n",
            "2023-03-02 07:54:43.035366: W tensorflow/tsl/framework/bfc_allocator.cc:290] Allocator (GPU_0_bfc) ran out of memory trying to allocate 6.57GiB with freed_by_count=0. The caller indicates that this is not a failure, but this may mean that there could be performance gains if more memory were available.\n",
            "5/5 [==============================] - 42s 3s/step - loss: 0.0337 - categorical_accuracy: 0.2512 - IoU_coef: 0.0232 - val_loss: 0.1804 - val_categorical_accuracy: 0.0356 - val_IoU_coef: 0.0341\n",
            "Epoch 2/2\n",
            "5/5 [==============================] - 6s 1s/step - loss: 0.0247 - categorical_accuracy: 0.2404 - IoU_coef: 0.0301 - val_loss: 0.0377 - val_categorical_accuracy: 0.0355 - val_IoU_coef: 0.0348\n"
          ]
        }
      ]
    },
    {
      "cell_type": "code",
      "source": [],
      "metadata": {
        "id": "jckBBOzlNuuV"
      },
      "execution_count": null,
      "outputs": []
    }
  ]
}